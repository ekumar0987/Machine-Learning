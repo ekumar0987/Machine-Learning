{
 "cells": [
  {
   "cell_type": "code",
   "execution_count": 6,
   "id": "60d1421b",
   "metadata": {},
   "outputs": [
    {
     "name": "stderr",
     "output_type": "stream",
     "text": [
      "[nltk_data] Downloading package brown to\n",
      "[nltk_data]     /Users/eshithahemakumar/nltk_data...\n",
      "[nltk_data]   Package brown is already up-to-date!\n",
      "[nltk_data] Downloading package punkt to\n",
      "[nltk_data]     /Users/eshithahemakumar/nltk_data...\n",
      "[nltk_data]   Package punkt is already up-to-date!\n"
     ]
    },
    {
     "name": "stdout",
     "output_type": "stream",
     "text": [
      "refused\n"
     ]
    }
   ],
   "source": [
    "import nltk\n",
    "from nltk import trigrams\n",
    "from nltk.corpus import brown\n",
    "from collections import defaultdict\n",
    "import random\n",
    "\n",
    "# Download and load the Brown corpus\n",
    "nltk.download('brown')\n",
    "nltk.download('punkt')\n",
    "\n",
    "# Create a model based on trigrams\n",
    "def train_trigram_model(corpus):\n",
    "    model = defaultdict(lambda: defaultdict(lambda: 0))\n",
    "    \n",
    "    for sentence in corpus.sents():\n",
    "        # Tokenize the sentence\n",
    "        sentence = ['<s>', '<s>'] + list(sentence) + ['</s>']\n",
    "        \n",
    "        # Count the trigrams\n",
    "        for w1, w2, w3 in trigrams(sentence, pad_right=True, pad_left=True):\n",
    "            model[(w1, w2)][w3] += 1\n",
    "    \n",
    "    # Convert counts to probabilities\n",
    "    for w1_w2 in model:\n",
    "        total_count = float(sum(model[w1_w2].values()))\n",
    "        for w3 in model[w1_w2]:\n",
    "            model[w1_w2][w3] /= total_count\n",
    "    \n",
    "    return model\n",
    "\n",
    "# Predict the next word\n",
    "def predict_next_word(model, w1, w2):\n",
    "    next_word = model[(w1, w2)]\n",
    "    # Check if there are next words available for the given bigram\n",
    "    if not next_word:\n",
    "        return None  # Or any suitable default action/notification\n",
    "    \n",
    "    # Choose a random word based on the distribution\n",
    "    predicted_word = random.choices(list(next_word.keys()), weights=next_word.values())[0]\n",
    "    return predicted_word\n",
    "\n",
    "# Train the model\n",
    "model = train_trigram_model(brown)\n",
    "\n",
    "# Example usage with error handling\n",
    "predicted_word = predict_next_word(model, 'The', 'dog')\n",
    "if predicted_word:\n",
    "    print(predicted_word)\n",
    "else:\n",
    "    print(\"No prediction available for the given context.\")\n"
   ]
  }
 ],
 "metadata": {
  "kernelspec": {
   "display_name": "Python 3 (ipykernel)",
   "language": "python",
   "name": "python3"
  },
  "language_info": {
   "codemirror_mode": {
    "name": "ipython",
    "version": 3
   },
   "file_extension": ".py",
   "mimetype": "text/x-python",
   "name": "python",
   "nbconvert_exporter": "python",
   "pygments_lexer": "ipython3",
   "version": "3.9.16"
  }
 },
 "nbformat": 4,
 "nbformat_minor": 5
}
